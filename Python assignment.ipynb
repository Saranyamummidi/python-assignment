{
 "cells": [
  {
   "cell_type": "code",
   "execution_count": null,
   "id": "e4eb0eb5-1af1-4da0-a465-8d5e90d85c2a",
   "metadata": {},
   "outputs": [],
   "source": [
    "Introduction\n",
    "My name is mummidi sri satya durga saranya, iam currently pursuing my postgraduation in aditya university,surampalem.\n"
   ]
  },
  {
   "cell_type": "code",
   "execution_count": null,
   "id": "20128ec9-cba9-4e21-a310-f3a04b2f2ac6",
   "metadata": {},
   "outputs": [],
   "source": [
    "1.Question: Write a Python program to calculate the sum of all numbers in a list using a for loop.\n",
    "\n",
    " Sample Input: numbers = [1, 2, 3, 4, 5]\n",
    " Sample Output: 15\n"
   ]
  },
  {
   "cell_type": "code",
   "execution_count": 1,
   "id": "e2e1b34d-4205-4f5a-90f1-f6849bae59d7",
   "metadata": {},
   "outputs": [
    {
     "name": "stdout",
     "output_type": "stream",
     "text": [
      "15\n"
     ]
    }
   ],
   "source": [
    "numbers=[1,2,3,4,5]\n",
    "n=0\n",
    "for i in numbers:\n",
    "    n=n+i    \n",
    "print(n)\n"
   ]
  },
  {
   "cell_type": "code",
   "execution_count": null,
   "id": "b5dfc475-9a43-4e86-9a7b-0c64c589ea9e",
   "metadata": {},
   "outputs": [],
   "source": [
    "2.Question: What is the output of the following code?\n",
    "\n",
    "Code:\n",
    "\n",
    "x = 5\n",
    "y = 2\n",
    "print(x ** y)\n",
    "          Sample Output: 25"
   ]
  },
  {
   "cell_type": "code",
   "execution_count": 25,
   "id": "9a0cf765-c44b-44d4-ac70-c1b61e387686",
   "metadata": {},
   "outputs": [
    {
     "name": "stdin",
     "output_type": "stream",
     "text": [
      "enter a number: 5\n",
      "enter a number: 2\n"
     ]
    }
   ],
   "source": [
    "x=int(input('enter a number:'))\n",
    "y=int(input('enter a number:'))\n"
   ]
  },
  {
   "cell_type": "code",
   "execution_count": 27,
   "id": "5866deb5-1a3c-457d-8359-76be6947e931",
   "metadata": {},
   "outputs": [
    {
     "name": "stdout",
     "output_type": "stream",
     "text": [
      "25\n"
     ]
    }
   ],
   "source": [
    "print(x**y)"
   ]
  },
  {
   "cell_type": "code",
   "execution_count": null,
   "id": "cdfedd00-825e-4b9e-ad89-078b5b65b617",
   "metadata": {},
   "outputs": [],
   "source": [
    "3.Question: Write a Python program to check if a number is a palindrome using a while loop.\n",
    "\n",
    "Sample Input: num = 12321\n",
    "Sample Output: True\n"
   ]
  },
  {
   "cell_type": "code",
   "execution_count": 7,
   "id": "b3f4cb1d-e906-4434-8b05-dda83a9b80ab",
   "metadata": {},
   "outputs": [
    {
     "name": "stdout",
     "output_type": "stream",
     "text": [
      "True\n"
     ]
    }
   ],
   "source": [
    "def palindrome(num):\n",
    "    return str(num) == str(num)[::-1]\n",
    "print(palindrome(12321)) "
   ]
  },
  {
   "cell_type": "code",
   "execution_count": null,
   "id": "a9951001-cbd2-4b69-aff9-16425982675a",
   "metadata": {},
   "outputs": [],
   "source": [
    "4.Question: What is the output of the following code?\n",
    "\n",
    "Code:\n",
    "\n",
    "fruits = ['apple', 'banana', 'cherry']\n",
    "print(fruits[-1])\n",
    "Sample Output: cherry\n"
   ]
  },
  {
   "cell_type": "code",
   "execution_count": 67,
   "id": "5062cba8-b20d-46f3-a237-fa6453394fb4",
   "metadata": {},
   "outputs": [
    {
     "name": "stdout",
     "output_type": "stream",
     "text": [
      "cherry\n"
     ]
    }
   ],
   "source": [
    "fruits = ['apple', 'banana', 'cherry']\n",
    "print(fruits[-1])"
   ]
  },
  {
   "cell_type": "code",
   "execution_count": null,
   "id": "8ea34f8c-7574-47cf-bce2-8ed12f043d6c",
   "metadata": {},
   "outputs": [],
   "source": [
    "5.Question: Write a Python program to calculate the average of all numbers in a list using a for loop.\n",
    "\n",
    "Sample Input: numbers = [1, 2, 3, 4, 5]\n",
    " Sample Output: 3.0"
   ]
  },
  {
   "cell_type": "code",
   "execution_count": 9,
   "id": "3ac81cb4-1e6f-4aa8-b823-9cc5362e5bde",
   "metadata": {},
   "outputs": [
    {
     "name": "stdout",
     "output_type": "stream",
     "text": [
      "3.0\n"
     ]
    }
   ],
   "source": [
    "number=[1,2,3,4,5]\n",
    "n=0\n",
    "for i in number:\n",
    "    n=n+i\n",
    "print(n/5)"
   ]
  },
  {
   "cell_type": "code",
   "execution_count": null,
   "id": "99dea44c-0efc-4bf1-81d6-b5ac5d31ebeb",
   "metadata": {},
   "outputs": [],
   "source": [
    "6.Question: Write a Python program to create a dictionary with student names as keys and their grades as values.\n",
    "\n",
    " Sample Input: students = ['John', 'Alice', 'Bob'], grades = [90, 85, 95]\n",
    " Sample Output: {'John': 90, 'Alice': 85, 'Bob': 95}"
   ]
  },
  {
   "cell_type": "code",
   "execution_count": 101,
   "id": "b3ed81b6-37f6-41ae-bee7-dbb4f3889489",
   "metadata": {},
   "outputs": [
    {
     "name": "stdout",
     "output_type": "stream",
     "text": [
      "{'John': 90, 'Alice': 85, 'Bob': 95}\n"
     ]
    }
   ],
   "source": [
    "students = ['John', 'Alice', 'Bob']\n",
    "grades = [90, 85, 95]\n",
    "student_grade={}\n",
    "for i in range(len(students)):\n",
    "    student_grade[students[i]]=grades[i]\n",
    "print(student_grade)     "
   ]
  },
  {
   "cell_type": "code",
   "execution_count": null,
   "id": "6bf9803a-61b4-43b3-a543-d4e10f5cdd79",
   "metadata": {},
   "outputs": [],
   "source": [
    "7.Question: What is the output of the following code?\n",
    " \n",
    "Code:\n",
    "\n",
    " numbers = [1, 2, 3, 4, 5]\n",
    " print(numbers[1:3])\n",
    "Sample Output: [2, 3]"
   ]
  },
  {
   "cell_type": "code",
   "execution_count": 65,
   "id": "e7238ac4-9ddf-40c0-9db9-b66ee9458707",
   "metadata": {},
   "outputs": [
    {
     "name": "stdout",
     "output_type": "stream",
     "text": [
      "[2, 3]\n"
     ]
    }
   ],
   "source": [
    " numbers = [1, 2, 3, 4, 5]\n",
    " print(numbers[1:3])"
   ]
  },
  {
   "cell_type": "code",
   "execution_count": null,
   "id": "d1a06a4f-24ab-4a4a-a8fe-666240f8c086",
   "metadata": {},
   "outputs": [],
   "source": [
    "\n",
    "\n",
    "8.Question: Write a Python program to sort a list of numbers in ascending order using the sorted() function.\n",
    "\n",
    " Sample Input: numbers = [4, 2, 9, 6, 5]\n",
    " Sample Output: [2, 4, 5, 6, 9]"
   ]
  },
  {
   "cell_type": "code",
   "execution_count": 77,
   "id": "0f85a0a7-d0b4-4245-b125-635feb1dcc1b",
   "metadata": {},
   "outputs": [
    {
     "name": "stdout",
     "output_type": "stream",
     "text": [
      "[2, 4, 5, 6, 9]\n"
     ]
    }
   ],
   "source": [
    "numbers = [4, 2, 9, 6, 5]\n",
    "numbers.sort()\n",
    "print(numbers)"
   ]
  },
  {
   "cell_type": "code",
   "execution_count": null,
   "id": "827075f1-173d-4b52-8f54-6ee19b83d91b",
   "metadata": {},
   "outputs": [],
   "source": [
    "9.Question: What is the output of the following code?\n",
    "\n",
    "Code:\n",
    " fruits = {'apple': 5, 'banana': 10, 'cherry': 15}\n",
    " print(fruits.get('banana'))\n",
    " Sample Output: 10"
   ]
  },
  {
   "cell_type": "code",
   "execution_count": 62,
   "id": "a19f58a3-da25-4708-9c89-4713e7082bee",
   "metadata": {},
   "outputs": [
    {
     "name": "stdout",
     "output_type": "stream",
     "text": [
      "10\n"
     ]
    }
   ],
   "source": [
    " fruits = {'apple': 5, 'banana': 10, 'cherry': 15}\n",
    " print(fruits.get('banana'))"
   ]
  },
  {
   "cell_type": "code",
   "execution_count": null,
   "id": "72c73535-ced4-41b4-9031-199d3b3f76dd",
   "metadata": {},
   "outputs": [],
   "source": [
    "10.Question: Write a Python program to create a list of squares of all numbers from 1 to 10 using a list comprehension.\n",
    "\n",
    " Sample Output: [1, 4, 9, 16, 25, 36, 49, 64, 81, 100]"
   ]
  },
  {
   "cell_type": "code",
   "execution_count": 71,
   "id": "7b37344f-7f1f-4a7c-95b7-da31f9e64378",
   "metadata": {},
   "outputs": [
    {
     "name": "stdout",
     "output_type": "stream",
     "text": [
      "[1, 4, 9, 16, 25, 36, 49, 64, 81, 100]\n"
     ]
    }
   ],
   "source": [
    "lists=[i**2 for i in range(1, 11)]\n",
    "print(lists)"
   ]
  },
  {
   "cell_type": "code",
   "execution_count": null,
   "id": "13f1843a-13c3-4e90-bc23-8b906e52efa1",
   "metadata": {},
   "outputs": [],
   "source": [
    "11.Question: Write a Python program to calculate the factorial of a number using recursion.\n",
    "\n",
    "Sample Input: num = 5\n",
    "Sample Output: 120"
   ]
  },
  {
   "cell_type": "code",
   "execution_count": 11,
   "id": "37851f05-c9ab-4090-8b0e-d3a881667776",
   "metadata": {},
   "outputs": [
    {
     "data": {
      "text/plain": [
       "120"
      ]
     },
     "execution_count": 11,
     "metadata": {},
     "output_type": "execute_result"
    }
   ],
   "source": [
    "def fac(num):\n",
    "    factorial=1\n",
    "    if num>0:\n",
    "        while(num>=1):\n",
    "            factorial=factorial*num\n",
    "            num=num-1\n",
    "        return factorial  \n",
    "fac(5)"
   ]
  },
  {
   "cell_type": "code",
   "execution_count": null,
   "id": "66b8cfd5-be32-4245-9651-4e73f75ed61f",
   "metadata": {},
   "outputs": [],
   "source": [
    "12.Question: What is the output of the following code?\n",
    "\n",
    "Code:\n",
    " numbers = [1, 2, 3, 4, 5]\n",
    " print(list(reversed(numbers)))\n",
    "Sample Output: [5, 4, 3, 2, 1]"
   ]
  },
  {
   "cell_type": "code",
   "execution_count": 73,
   "id": "91d1f119-937b-41ef-9d9d-a943d916135f",
   "metadata": {},
   "outputs": [
    {
     "name": "stdout",
     "output_type": "stream",
     "text": [
      "[5, 4, 3, 2, 1]\n"
     ]
    }
   ],
   "source": [
    " numbers = [1, 2, 3, 4, 5]\n",
    " print(list(reversed(numbers)))"
   ]
  },
  {
   "cell_type": "code",
   "execution_count": null,
   "id": "bcbc31a1-3361-4f08-8a37-47edee7d9e94",
   "metadata": {},
   "outputs": [],
   "source": [
    "13.Question: Write a Python program to create a generator that yields the Fibonacci sequence up to the nth term.\n",
    "\n",
    "Sample Input: n = 10\n",
    "Sample Output: [0, 1, 1, 2, 3, 5, 8, 13, 21, 34]"
   ]
  },
  {
   "cell_type": "code",
   "execution_count": 13,
   "id": "ae16a2b8-06bf-4ae4-bbac-168a55565571",
   "metadata": {},
   "outputs": [
    {
     "data": {
      "text/plain": [
       "[0, 1, 1, 2, 3, 5, 8, 13, 21, 34]"
      ]
     },
     "execution_count": 13,
     "metadata": {},
     "output_type": "execute_result"
    }
   ],
   "source": [
    "def fibonacci(n):\n",
    "    a, b = 0, 1\n",
    "    for _ in range(n):\n",
    "        yield a\n",
    "        a, b = b, a + b\n",
    "n = 10  \n",
    "list(fibonacci(n)) "
   ]
  },
  {
   "cell_type": "code",
   "execution_count": null,
   "id": "97070864-9107-4eef-8ecb-4f9cf8013620",
   "metadata": {},
   "outputs": [],
   "source": [
    "\n",
    "\n",
    "14.Question: What is the output of the following code?\n",
    "\n",
    "Code:\n",
    "  import math\n",
    "  print(math.pi)\n",
    "            Sample Output: 3.14159..."
   ]
  },
  {
   "cell_type": "code",
   "execution_count": 75,
   "id": "629b8e9f-7cdf-478a-bbd3-b188c51d2905",
   "metadata": {},
   "outputs": [
    {
     "name": "stdout",
     "output_type": "stream",
     "text": [
      "3.141592653589793\n"
     ]
    }
   ],
   "source": [
    "import math\n",
    "print(math.pi)"
   ]
  },
  {
   "cell_type": "code",
   "execution_count": null,
   "id": "ccf10c33-ed4a-4556-b33a-5b9b277f1344",
   "metadata": {},
   "outputs": [],
   "source": [
    "15.Question: Write a Python program to print the inverted star pyramid of height 5."
   ]
  },
  {
   "cell_type": "code",
   "execution_count": 3,
   "id": "c46b0202-b13e-43f0-979b-a0eefe7c7da6",
   "metadata": {},
   "outputs": [
    {
     "name": "stdout",
     "output_type": "stream",
     "text": [
      "*********\n",
      " *******\n",
      "  *****\n",
      "   ***\n",
      "    *\n"
     ]
    }
   ],
   "source": [
    "r = 5\n",
    "for i in range(r,0,-1):\n",
    "    print(' ' * (r - i) + '*' * (2 * i - 1))"
   ]
  },
  {
   "cell_type": "code",
   "execution_count": null,
   "id": "c52d06d5-941f-4477-82d5-73eea0baf3c0",
   "metadata": {},
   "outputs": [],
   "source": []
  },
  {
   "cell_type": "code",
   "execution_count": null,
   "id": "bae1e24c-6e21-45c6-b708-c78637dd77eb",
   "metadata": {},
   "outputs": [],
   "source": []
  }
 ],
 "metadata": {
  "kernelspec": {
   "display_name": "Python 3 (ipykernel)",
   "language": "python",
   "name": "python3"
  },
  "language_info": {
   "codemirror_mode": {
    "name": "ipython",
    "version": 3
   },
   "file_extension": ".py",
   "mimetype": "text/x-python",
   "name": "python",
   "nbconvert_exporter": "python",
   "pygments_lexer": "ipython3",
   "version": "3.12.7"
  }
 },
 "nbformat": 4,
 "nbformat_minor": 5
}
